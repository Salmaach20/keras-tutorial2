{
 "cells": [
  {
   "cell_type": "code",
   "execution_count": 1,
   "id": "f78d9a61",
   "metadata": {},
   "outputs": [],
   "source": [
    "#Introduction"
   ]
  },
  {
   "cell_type": "code",
   "execution_count": 2,
   "id": "e6093c3f",
   "metadata": {},
   "outputs": [
    {
     "data": {
      "text/plain": [
       "' BigTransfer (also known as BiT) is a state-of-the-art transfer learning method for image classification. Transfer of pre-trained representations improves sample efficiency and simplifies hyperparameter tuning when training deep neural networks for vision. BiT revisit the paradigm of pre-training on large supervised datasets and fine-tuning the model on a target task. The importance of appropriately choosing normalization layers and scaling the architecture capacity as the amount of pre-training data increases.\\n\\nBigTransfer(BiT) is trained on public datasets, along with code in TF2, Jax and Pytorch. This will help anyone to reach state of the art performance on their task of interest, even with just a handful of labeled images per class.\\n\\nYou can find BiT models pre-trained on ImageNet and ImageNet-21k in TFHub as TensorFlow2 SavedModels that you can use easily as Keras Layers. There are a variety of sizes ranging from a standard ResNet50 to a ResNet152x4 (152 layers deep, 4x wider than a typical ResNet50) for users with larger computational and memory budgets but higher accuracy requirements. '"
      ]
     },
     "execution_count": 2,
     "metadata": {},
     "output_type": "execute_result"
    }
   ],
   "source": [
    "\"\"\" BigTransfer (also known as BiT) is a state-of-the-art transfer learning method for image classification. Transfer of pre-trained representations improves sample efficiency and simplifies hyperparameter tuning when training deep neural networks for vision. BiT revisit the paradigm of pre-training on large supervised datasets and fine-tuning the model on a target task. The importance of appropriately choosing normalization layers and scaling the architecture capacity as the amount of pre-training data increases.\n",
    "\n",
    "BigTransfer(BiT) is trained on public datasets, along with code in TF2, Jax and Pytorch. This will help anyone to reach state of the art performance on their task of interest, even with just a handful of labeled images per class.\n",
    "\n",
    "You can find BiT models pre-trained on ImageNet and ImageNet-21k in TFHub as TensorFlow2 SavedModels that you can use easily as Keras Layers. There are a variety of sizes ranging from a standard ResNet50 to a ResNet152x4 (152 layers deep, 4x wider than a typical ResNet50) for users with larger computational and memory budgets but higher accuracy requirements. \"\"\""
   ]
  },
  {
   "cell_type": "code",
   "execution_count": 3,
   "id": "19b1c51f",
   "metadata": {},
   "outputs": [],
   "source": [
    "#Import the libraries"
   ]
  },
  {
   "cell_type": "code",
   "execution_count": 13,
   "id": "9a6c5525",
   "metadata": {},
   "outputs": [],
   "source": [
    "import numpy as np\n",
    "import pandas as pd\n",
    "import matplotlib.pyplot as plt\n",
    "\n",
    "import tensorflow as tf\n",
    "from tensorflow import keras\n",
    "import tensorflow_hub as hub\n",
    "import tensorflow_datasets as tfds\n"
   ]
  },
  {
   "cell_type": "code",
   "execution_count": 14,
   "id": "51c87edb",
   "metadata": {},
   "outputs": [],
   "source": [
    "tfds.disable_progress_bar()\n",
    "\n",
    "SEEDS = 42\n",
    "\n",
    "np.random.seed(SEEDS)\n",
    "tf.random.set_seed(SEEDS)"
   ]
  },
  {
   "cell_type": "code",
   "execution_count": 15,
   "id": "c8c4ad00",
   "metadata": {},
   "outputs": [],
   "source": [
    "#Gather Flower Dataset"
   ]
  },
  {
   "cell_type": "code",
   "execution_count": null,
   "id": "40cf2814",
   "metadata": {},
   "outputs": [],
   "source": [
    "train_ds, validation_ds = tfds.load(\n",
    "    \"tf_flowers\",\n",
    "    split=[\"train[:85%]\", \"train[85%:]\"],\n",
    "    as_supervised=True,\n",
    ")"
   ]
  },
  {
   "cell_type": "code",
   "execution_count": null,
   "id": "938579eb",
   "metadata": {},
   "outputs": [],
   "source": [
    "#Visualise the dataset\n",
    "plt.figure(figsize=(10, 10))\n",
    "for i, (image, label) in enumerate(train_ds.take(9)):\n",
    "    ax = plt.subplot(3, 3, i + 1)\n",
    "    plt.imshow(image)\n",
    "    plt.title(int(label))\n",
    "    plt.axis(\"off\")\n"
   ]
  },
  {
   "cell_type": "code",
   "execution_count": null,
   "id": "3b89136a",
   "metadata": {},
   "outputs": [],
   "source": [
    "Define hyperparameters\n",
    "RESIZE_TO = 384\n",
    "CROP_TO = 224\n",
    "BATCH_SIZE = 64\n",
    "STEPS_PER_EPOCH = 10\n",
    "AUTO = tf.data.AUTOTUNE  # optimise the pipeline performance\n",
    "NUM_CLASSES = 5  # number of classes\n",
    "SCHEDULE_LENGTH = (\n",
    "    500  # we will train on lower resolution images and will still attain good results\n",
    ")\n",
    "SCHEDULE_BOUNDARIES = [\n",
    "    200,\n",
    "    300,\n",
    "    400,\n",
    "]  # more the dataset size the schedule length increase"
   ]
  },
  {
   "cell_type": "code",
   "execution_count": null,
   "id": "348cfc7a",
   "metadata": {},
   "outputs": [],
   "source": [
    "#Define preprocessing helper functions\n",
    "SCHEDULE_LENGTH = SCHEDULE_LENGTH * 512 / BATCH_SIZE\n",
    "\n",
    "\n",
    "@tf.function\n",
    "def preprocess_train(image, label):\n",
    "    image = tf.image.random_flip_left_right(image)\n",
    "    image = tf.image.resize(image, (RESIZE_TO, RESIZE_TO))\n",
    "    image = tf.image.random_crop(image, (CROP_TO, CROP_TO, 3))\n",
    "    image = image / 255.0\n",
    "    return (image, label)\n",
    "\n",
    "\n",
    "@tf.function\n",
    "def preprocess_test(image, label):\n",
    "    image = tf.image.resize(image, (RESIZE_TO, RESIZE_TO))\n",
    "    image = image / 255.0\n",
    "    return (image, label)\n",
    "\n",
    "\n",
    "DATASET_NUM_TRAIN_EXAMPLES = train_ds.cardinality().numpy()\n",
    "\n",
    "repeat_count = int(\n",
    "    SCHEDULE_LENGTH * BATCH_SIZE / DATASET_NUM_TRAIN_EXAMPLES * STEPS_PER_EPOCH\n",
    ")\n",
    "repeat_count += 50 + 1  # To ensure at least there are 50 epochs of training\n"
   ]
  },
  {
   "cell_type": "code",
   "execution_count": null,
   "id": "753327eb",
   "metadata": {},
   "outputs": [],
   "source": [
    "#Define the data pipeline\n",
    "\n",
    "# Training pipeline\n",
    "pipeline_train = (\n",
    "    train_ds.shuffle(10000)\n",
    "    .repeat(repeat_count)  # Repeat dataset_size / num_steps\n",
    "    .map(preprocess_train, num_parallel_calls=AUTO)\n",
    "    .batch(BATCH_SIZE)\n",
    "    .prefetch(AUTO)\n",
    ")\n",
    "\n",
    "# Validation pipeline\n",
    "pipeline_validation = (\n",
    "    validation_ds.map(preprocess_test, num_parallel_calls=AUTO)\n",
    "    .batch(BATCH_SIZE)\n",
    "    .prefetch(AUTO)\n",
    ")"
   ]
  },
  {
   "cell_type": "code",
   "execution_count": null,
   "id": "5913eeca",
   "metadata": {},
   "outputs": [],
   "source": [
    "#Visualise the training samples\n",
    "image_batch, label_batch = next(iter(pipeline_train))\n",
    "\n",
    "plt.figure(figsize=(10, 10))\n",
    "for n in range(25):\n",
    "    ax = plt.subplot(5, 5, n + 1)\n",
    "    plt.imshow(image_batch[n])\n",
    "    plt.title(label_batch[n].numpy())\n",
    "    plt.axis(\"off\")"
   ]
  },
  {
   "cell_type": "code",
   "execution_count": null,
   "id": "69eae65d",
   "metadata": {},
   "outputs": [],
   "source": [
    "#Load pretrained TF-Hub model into a KerasLayer\n",
    "bit_model_url = \"https://tfhub.dev/google/bit/m-r50x1/1\"\n",
    "bit_module = hub.KerasLayer(bit_model_url)"
   ]
  },
  {
   "cell_type": "code",
   "execution_count": null,
   "id": "503ca24f",
   "metadata": {},
   "outputs": [],
   "source": [
    "#Create BigTransfer (BiT) model\n",
    "\"\"\"To create the new model, we:\n",
    "\n",
    "Cut off the BiT model’s original head. This leaves us with the “pre-logits” output. We do not have to do this if we use the ‘feature extractor’ models (i.e. all those in subdirectories titled feature_vectors), since for those models the head has already been cut off.\n",
    "\n",
    "Add a new head with the number of outputs equal to the number of classes of our new task. Note that it is important that we initialise the head to all zeroes. \"\"\""
   ]
  },
  {
   "cell_type": "code",
   "execution_count": null,
   "id": "19509472",
   "metadata": {},
   "outputs": [],
   "source": [
    "class MyBiTModel(keras.Model):\n",
    "    def __init__(self, num_classes, module, **kwargs):\n",
    "        super().__init__(**kwargs)\n",
    "\n",
    "        self.num_classes = num_classes\n",
    "        self.head = keras.layers.Dense(num_classes, kernel_initializer=\"zeros\")\n",
    "        self.bit_model = module\n",
    "\n",
    "    def call(self, images):\n",
    "        bit_embedding = self.bit_model(images)\n",
    "        return self.head(bit_embedding)\n",
    "\n",
    "\n",
    "model = MyBiTModel(num_classes=NUM_CLASSES, module=bit_module)"
   ]
  },
  {
   "cell_type": "code",
   "execution_count": null,
   "id": "ed52a9ee",
   "metadata": {},
   "outputs": [],
   "source": [
    "#Define optimizer and loss\n",
    "learning_rate = 0.003 * BATCH_SIZE / 512\n",
    "\n",
    "# Decay learning rate by a factor of 10 at SCHEDULE_BOUNDARIES.\n",
    "lr_schedule = keras.optimizers.schedules.PiecewiseConstantDecay(\n",
    "    boundaries=SCHEDULE_BOUNDARIES,\n",
    "    values=[\n",
    "        learning_rate,\n",
    "        learning_rate * 0.1,\n",
    "        learning_rate * 0.01,\n",
    "        learning_rate * 0.001,\n",
    "    ],\n",
    ")\n",
    "optimizer = keras.optimizers.SGD(learning_rate=lr_schedule, momentum=0.9)\n",
    "\n",
    "loss_fn = keras.losses.SparseCategoricalCrossentropy(from_logits=True)"
   ]
  },
  {
   "cell_type": "code",
   "execution_count": null,
   "id": "da63265f",
   "metadata": {},
   "outputs": [],
   "source": [
    "#Compile the model\n",
    "model.compile(optimizer=optimizer, loss=loss_fn, metrics=[\"accuracy\"])"
   ]
  },
  {
   "cell_type": "code",
   "execution_count": null,
   "id": "c2c1fbbe",
   "metadata": {},
   "outputs": [],
   "source": [
    "#Set up callbacks\n",
    "train_callbacks = [\n",
    "    keras.callbacks.EarlyStopping(\n",
    "        monitor=\"val_accuracy\", patience=2, restore_best_weights=True\n",
    "    )\n",
    "]\n"
   ]
  },
  {
   "cell_type": "code",
   "execution_count": null,
   "id": "c91ba89a",
   "metadata": {},
   "outputs": [],
   "source": [
    "#Train the model\n",
    "history = model.fit(\n",
    "    pipeline_train,\n",
    "    batch_size=BATCH_SIZE,\n",
    "    epochs=int(SCHEDULE_LENGTH / STEPS_PER_EPOCH),\n",
    "    steps_per_epoch=STEPS_PER_EPOCH,\n",
    "    validation_data=pipeline_validation,\n",
    "    callbacks=train_callbacks,\n",
    ")"
   ]
  },
  {
   "cell_type": "code",
   "execution_count": null,
   "id": "ac78ddff",
   "metadata": {},
   "outputs": [],
   "source": [
    "Plot the training and validation metrics\n",
    "def plot_hist(hist):\n",
    "    plt.plot(hist.history[\"accuracy\"])\n",
    "    plt.plot(hist.history[\"val_accuracy\"])\n",
    "    plt.plot(hist.history[\"loss\"])\n",
    "    plt.plot(hist.history[\"val_loss\"])\n",
    "    plt.title(\"Training Progress\")\n",
    "    plt.ylabel(\"Accuracy/Loss\")\n",
    "    plt.xlabel(\"Epochs\")\n",
    "    plt.legend([\"train_acc\", \"val_acc\", \"train_loss\", \"val_loss\"], loc=\"upper left\")\n",
    "    plt.show()\n",
    "\n",
    "\n",
    "plot_hist(history)"
   ]
  },
  {
   "cell_type": "code",
   "execution_count": null,
   "id": "496e1934",
   "metadata": {},
   "outputs": [],
   "source": [
    "#Evaluate the model\n",
    "accuracy = model.evaluate(pipeline_validation)[1] * 100\n",
    "print(\"Accuracy: {:.2f}%\".format(accuracy))"
   ]
  },
  {
   "cell_type": "code",
   "execution_count": null,
   "id": "130cbe7d",
   "metadata": {},
   "outputs": [],
   "source": [
    "#Conclusion\n",
    "\"\"\" BiT performs well across a surprisingly wide range of data regimes -- from 1 example per class to 1M total examples. BiT achieves 87.5% top-1 accuracy on ILSVRC-2012, 99.4% on CIFAR-10, and 76.3% on the 19 task Visual Task Adaptation Benchmark (VTAB). On small datasets, BiT attains 76.8% on ILSVRC-2012 with 10 examples per class, and 97.0% on CIFAR-10 with 10 examples per class. \"\"\""
   ]
  }
 ],
 "metadata": {
  "kernelspec": {
   "display_name": "Python 3 (ipykernel)",
   "language": "python",
   "name": "python3"
  },
  "language_info": {
   "codemirror_mode": {
    "name": "ipython",
    "version": 3
   },
   "file_extension": ".py",
   "mimetype": "text/x-python",
   "name": "python",
   "nbconvert_exporter": "python",
   "pygments_lexer": "ipython3",
   "version": "3.10.6"
  }
 },
 "nbformat": 4,
 "nbformat_minor": 5
}
